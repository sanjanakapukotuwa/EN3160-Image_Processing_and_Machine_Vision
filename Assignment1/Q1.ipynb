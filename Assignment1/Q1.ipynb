import cv2 as cv
import numpy as np
import matplotlib.pyplot as plt
t1 = np.linspace(0,50,51).astype('uint8')
t2 = np.linspace(100, 255, 100).astype('uint8')
t3 = np.linspace(150,255,105).astype('uint8')
transform = np.concatenate((t1, t2), axis=0).astype('uint8')
transform = np.concatenate((transform, t3), axis=0).astype('uint8')
print(len(transform))

fig,ax = plt.subplots( )
ax.plot(transform)
ax.set_xlabel(r'Input,$f(\mathbf{x})$')
ax.set_ylabel('Output,$\mathrm{T}[f(\mathbf{x})]$')
ax.set_xlim (0 ,255)
ax.set_ylim (0 ,255)
ax.set_aspect ('equal')
plt.savefig('transform.png')
plt.show( )

img_orig = cv . imread ('emma.jpg',cv.IMREAD_GRAYSCALE)
cv.namedWindow("Image", cv.WINDOW_AUTOSIZE)
cv.imshow("Image",img_orig)
cv.waitKey(0)
image_transformed = cv.LUT( img_orig , transform )
cv.imshow('Image' , image_transformed)
cv.waitKey(0)
cv.destroyAllWindows( )
