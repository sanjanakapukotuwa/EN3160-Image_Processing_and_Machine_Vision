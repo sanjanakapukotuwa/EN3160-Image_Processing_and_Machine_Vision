def accentuate(pix, l,u):
    if ((l <= pix) and (pix <= u)):
        return 255
    else:
        return 0 
# Vectorize the function to apply it to each value in the Numpy array.
accentuate_vec = np.vectorize(accentuate)   

# Open the image.
img2 = cv.imread('brain.png',cv.IMREAD_GRAYSCALE)
#Accentuating White Matter. Define parameters accordingly.
lw = 150
uw = 180  

white_accentuated = accentuate_vec(img2, lw ,uw)
# Save edited image.
cv.imwrite('white_matter_accentuated.jpg', white_accentuated)

#Define the parameters relevant to accentuating grey matter.
lg = 185
ug = 235

grey_accentuated = accentuate_vec(img2, lg ,ug)
cv.imwrite('grey_matter_accentuated.jpg', grey_accentuated)
