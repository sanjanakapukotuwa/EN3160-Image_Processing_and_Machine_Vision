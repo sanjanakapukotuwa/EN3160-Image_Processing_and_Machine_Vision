import cv2 as cv
import numpy as np
import matplotlib.pyplot as plt

img3 = cv.imread('highlights_and_shadows.jpg')
img3_Lab = cv.cvtColor(img3,cv.COLOR_BGR2Lab)
l,a,b = cv.split(img3_Lab)
gamma = 0.7
transform =  np.array([(p/255)**gamma*255 for p in range(256)]).astype('uint8')
L = cv.LUT(l,transform).reshape(480,720,1)
img3_merged = cv.merge([L,a,b])

#The same can be implemented using the below code segment.
'''img3 = cv.imread('highlights_and_shadows.jpg')
img3_Lab = cv.cvtColor(img3,cv.COLOR_BGR2Lab)
gamma = 0.6
transform =  np.array([(p/255)**gamma*255 for p in range(256)]).astype('uint8')
L = cv.LUT(img3_Lab[:,:,0],transform).reshape(480,720,1)
corrected = np.concatenate([L,img3_Lab[:,:,1:]],-1)'''

img3_ = cv.cvtColor(img3,cv.COLOR_BGR2RGB)
display_img3 = cv.cvtColor(img3_merged,cv.COLOR_Lab2RGB)
hist1 = cv.calcHist([img3_Lab],[0],None,[256],[0,256])
hist2 = cv.calcHist([img3_merged],[0],None,[256],[0,256])
fig = plt.figure(figsize=(16,10))

ax1 = fig.add_subplot(221)
ax2 = fig.add_subplot(222)
ax3 = fig.add_subplot(223)
ax4 = fig.add_subplot(224)

ax1.imshow(img3_)
ax2.plot(hist1)
ax3.imshow(display_img3)
ax4.plot(hist2)

ax1.title.set_text('Original image')
ax2.title.set_text('Histogram of original image')
ax3.title.set_text('Gamma corrected image')
ax4.title.set_text('Histogram of gamma corrected image')
plt.show()
