img4 = cv.imread('spider.png')
img4_hsv = cv.cvtColor(img4,cv.COLOR_BGR2HSV)
h,s,v = cv.split(img4_hsv)
def vibrance_increase(x,a,sigma):
    fx = min ((x + (a*128*np.exp(-1*np.power(x-128,2)/(2*sigma**2)))),255)
    return fx
define_a = 0.6
define_sigma = 70
transform =  np.array([vibrance_increase(p,define_a,define_sigma) for p in range(256)]).astype('uint8')
S_plane = cv.LUT(s,transform).reshape(438,780,1)
merge_img4 = cv.merge([h,S_plane,v])
img4_ = cv.cvtColor(img4,cv.COLOR_BGR2RGB)
display_img4 = cv.cvtColor(merge_img4,cv.COLOR_HSV2RGB)
fig = plt.figure(figsize=(16,8))

ax1 = fig.add_subplot(221)
ax2 = fig.add_subplot(222)

ax1.imshow(img4_)
ax2.imshow(display_img4)

ax1.title.set_text('Original image')
ax2.title.set_text('Vibrance enhanced image')

plt.show()

fig,ax = plt.subplots( )
ax.plot(transform)
ax.set_xlabel(r'Input,$f(\mathbf{x})$')
ax.set_ylabel('Output,$\mathrm{T}[f(\mathbf{x})]$')
ax.set_xlim (0 ,255)
ax.set_ylim (0 ,255)
ax.set_aspect ('equal')
plt.savefig('transform.png')
plt.show( )
