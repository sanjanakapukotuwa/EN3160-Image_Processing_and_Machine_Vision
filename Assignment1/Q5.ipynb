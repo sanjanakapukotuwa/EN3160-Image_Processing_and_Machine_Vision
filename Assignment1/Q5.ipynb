import cv2 as cv
import numpy as np
import matplotlib.pyplot as plt

# Histogram equalization
img5 = cv.imread('shells.tif',cv.IMREAD_GRAYSCALE)
a,b = np.shape(img5)[0],np.shape(img5)[1]
cum_sum = []
total = 0
for i in range(256):
    y = (img5 == i).sum()
    total+=y
    cum_sum.append(total)
transform = ((255/(a*b))*np.array(cum_sum)).astype('uint8')
image_transformed = cv.LUT( img5 , transform )
fig,ax = plt.subplots( )
ax.plot(transform)
ax.set_xlabel(r'Input,$f(\mathbf{x})$')
ax.set_ylabel('Output,$\mathrm{T}[f(\mathbf{x})]$')
ax.set_xlim (0 ,255)
ax.set_ylim (0 ,255)
ax.set_aspect ('equal')
plt.savefig('transform.png')
plt.show( )
h1 = cv.calcHist([img5],[0],None,[256],[0,256])
h2 = cv.calcHist([image_transformed],[0],None,[256],[0,256])

fig = plt.figure(figsize=(12,8))

ax1 = fig.add_subplot(221)
ax2 = fig.add_subplot(222)
ax3 = fig.add_subplot(223)
ax4 = fig.add_subplot(224)

ax1.imshow(cv.cvtColor(img5,cv.COLOR_BGR2RGB))
ax2.plot(h1)
ax3.imshow(cv.cvtColor(image_transformed,cv.COLOR_BGR2RGB))
ax4.plot(h2)

ax1.title.set_text('Original image')
ax2.title.set_text('Histogram of original image')
ax3.title.set_text('Histogram equalized image')
ax4.title.set_text('Histogram after equalization')
plt.show()
