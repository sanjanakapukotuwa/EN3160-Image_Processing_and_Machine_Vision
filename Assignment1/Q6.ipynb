import cv2 as cv
import numpy as np
import matplotlib.pyplot as plt
img6 = cv.imread('jeniffer.jpg',cv.IMREAD_COLOR)
img6_hsv = cv.cvtColor(img6,cv.COLOR_BGR2HSV)
h,s,v = cv.split(img6_hsv)
fig = plt.figure(figsize=(16,12))

ax1 = fig.add_subplot(131)
ax2 = fig.add_subplot(132)
ax3 = fig.add_subplot(133)

#ax1.set_title(‘Hue’)
ax1.imshow(h, cmap = 'gray')
#ax2.set_title(‘Saturation’)
ax2.imshow(s, cmap = 'gray')
#ax3.set_title(‘Value’)
ax3.imshow(v, cmap = 'gray')

ax1.title.set_text('Hue')
ax2.title.set_text('Saturation')
ax3.title.set_text('Value')
plt.show()

threshold = 11
_, foreground_mask = cv.threshold(s, threshold, 255, cv.THRESH_BINARY)
foreground = cv.bitwise_and(img6, img6, mask=foreground_mask)


# Compute the histogram of the foreground
fhblue = cv.calcHist([foreground], [0], foreground_mask, [256], [0, 256])
fhgreen = cv.calcHist([foreground], [1], foreground_mask, [256], [0, 256])
fhred = cv.calcHist([foreground], [2], foreground_mask, [256], [0, 256])

# Obtain the cumulative sum of the histogram
chblue = np.cumsum(fhblue)
chgreen = np.cumsum(fhgreen)
chred = np.cumsum(fhred)

# Histogram equalization = Cumulative probability * 255
transformed_hist_blue = np.round(chblue * 255 / chblue[-1]).astype(np.uint8)
transformed_hist_green = np.round(chgreen * 255 / chgreen[-1]).astype(np.uint8)
transformed_hist_red = np.round(chred * 255 / chred[-1]).astype(np.uint8)

threshold = 11
_, foreground_mask = cv.threshold(s, threshold, 255, cv.THRESH_BINARY)
foreground = cv.bitwise_and(img6, img6, mask=foreground_mask)


# Compute the histogram of the foreground
fhblue = cv.calcHist([foreground], [0], foreground_mask, [256], [0, 256])
fhgreen = cv.calcHist([foreground], [1], foreground_mask, [256], [0, 256])
fhred = cv.calcHist([foreground], [2], foreground_mask, [256], [0, 256])

# Obtain the cumulative sum of the histogram
chblue = np.cumsum(fhblue)
chgreen = np.cumsum(fhgreen)
chred = np.cumsum(fhred)

# Histogram equalization = Cumulative probability * 255
transformed_hist_blue = np.round(chblue * 255 / chblue[-1]).astype(np.uint8)
transformed_hist_green = np.round(chgreen * 255 / chgreen[-1]).astype(np.uint8)
transformed_hist_red = np.round(chred * 255 / chred[-1]).astype(np.uint8)

# Extract the background from the original image
background = cv.bitwise_and(img6, img6 , mask=cv.bitwise_not(foreground_mask))

# Combine the equalized foreground and the background
eqz_img = cv.add(eqz_foreground, background)

# Display equalized image and original image in grayscale
plt.figure(figsize=(12, 8))

plt.subplot(1, 2, 1)
plt.imshow(cv.cvtColor(img6, cv.COLOR_BGR2GRAY), cmap="gray")
plt.title("Original Image")
plt.axis("off")

plt.subplot(1, 2, 2)
plt.imshow(cv.cvtColor(eqz_img, cv.COLOR_BGR2GRAY), cmap="gray")
plt.title("Equalized Image")
plt.axis("off")

plt.tight_layout()
plt.show()
