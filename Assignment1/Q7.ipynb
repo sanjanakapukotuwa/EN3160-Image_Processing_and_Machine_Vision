import cv2 as cv
import numpy as np
import matplotlib.pyplot as plt

img_ = cv.imread('einstein.png')
img = cv.cvtColor(img_,cv.COLOR_BGR2GRAY)

#Using the existing filter2D to carry out sobel filtering
sobel_v = np.array([[ -1, -2, -1], 
                   [ 0, 0, 0], 
                   [ 1, 2, 1]],dtype='float')

sobel_h = np.array([[ -1, 0, 1], 
                   [ -2, 0, 2], 
                   [ -1, 0, 1]],dtype='float')

filtered_image_v = cv.filter2D(img, -1, sobel_v)
filtered_image_h = cv.filter2D(img, -1, sobel_h)

fig = plt.figure(figsize=(16,12))

ax1 = fig.add_subplot(131)
ax2 = fig.add_subplot(132)
ax3 = fig.add_subplot(133)

ax1.imshow(img, cmap = 'gray')
ax2.imshow(filtered_image_v, cmap = 'gray',vmin=-1020, vmax=1020)
ax3.imshow(filtered_image_h, cmap = 'gray' , vmin=-1020, vmax=1020)

ax1.title.set_text('Original image')
ax2.title.set_text('Sobel verticle')
ax3.title.set_text('Sobel horizontal')
plt.show()

# Implementing a code from scratch to carry out sobel filtering

rows,columns = np.shape(img)
print(rows,columns)
# Performing Zero padding before applying the filter
r,c = img.shape
# Create an image with 2 more rows and 2 more columns
# Initialize the value of each pixel to be zero
padded_img = np.full((r+2,c+2),0,dtype='uint8')

# The pixel values of the ones not in the border are set to be equal to that of the original image
padded_img[1:r+1,1:c+1]=img

print(np.shape(padded_img))

# Initialize 2 arrays with zeros to store the final outcome.
result_v = np.zeros(img.shape, 'float')
result_h = np.zeros(img.shape, 'float')

# Initialize the 2 filters
sobel_v = np.array([[ -1, -2, -1], 
                   [ 0, 0, 0], 
                   [ 1, 2, 1]],dtype='float')

sobel_h = np.array([[ -1, 0, 1], 
                   [ -2, 0, 2], 
                   [ -1, 0, 1]],dtype='float')
for i in range(r):
    for j in range(c):
        result_v[i,j] = np.sum(np.multiply(sobel_v ,padded_img[i:i+3,j:j+3] ))
        
for i in range(r):
    for j in range(c):
        result_h[i,j] = np.sum(np.multiply(sobel_h ,padded_img[i:i+3,j:j+3] ))
fig = plt.figure(figsize=(16,12))

ax1 = fig.add_subplot(131)
ax2 = fig.add_subplot(132)
ax3 = fig.add_subplot(133)


ax1.imshow(img, cmap = 'gray')
ax2.imshow(result_v, cmap = 'gray',vmin=-1020, vmax=1020)
ax3.imshow(result_h, cmap = 'gray',vmin=-1020, vmax=1020)

ax1.title.set_text('Original image')
ax2.title.set_text('Sobel vertical from scratch')
ax3.title.set_text('Sobel horizontal from scratch')
plt.show()

# Sobel filtering using convolution

from scipy import signal

sh1 = np.array([[1],[0],[-1]])
sh2 = np.array([[1,2,1]])

x1 = signal.convolve2d(img , sh1 , mode='same')
x2 = signal.convolve2d(x1 , sh2 , mode='same')


sv1 = np.array([[1],[2],[1]])
sv2 = np.array([[1,0,-1]])

y1 = signal.convolve2d(img , sv1 , mode='same')
y2 = signal.convolve2d(y1 , sv2 , mode='same')

fig = plt.figure(figsize=(16,12))

ax1 = fig.add_subplot(131)
ax2 = fig.add_subplot(132)
ax3 = fig.add_subplot(133)


ax1.imshow(img, cmap = 'gray')
ax2.imshow(x2, cmap = 'gray',vmin=-1020, vmax=1020)
ax3.imshow(y2, cmap = 'gray',vmin=-1020, vmax=1020)

ax1.title.set_text('Original image')
ax2.title.set_text('Sobel vertical by convolution')
ax3.title.set_text('Sobel horizontal by convolution')
plt.show()
