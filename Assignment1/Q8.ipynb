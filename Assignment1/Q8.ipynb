import cv2 as cv
import numpy as np
import matplotlib.pyplot as plt

def nearest_neighbour_ZOOM(image,scale):
    rows = int(image.shape[0]*scale)
    columns = int(image.shape[1]*scale)
    
    zoomed_img = np.zeros((rows,columns,3),dtype=image.dtype)
    
    for i in range(rows):
        for j in range(columns):
            zoomed_img[i,j] = image[int(i/scale),int(j/scale)]
    
    return zoomed_img
img = cv.cvtColor(cv.imread(r'zooming/im09small.png'),cv.COLOR_BGR2RGB)
nn_zoom_img = nearest_neighbour_ZOOM(img,4)
fig = plt.figure(figsize=(16,12))

ax1 = fig.add_subplot(121)
ax2 = fig.add_subplot(122)


ax1.imshow(img)
ax2.imshow(nn_zoom_img)

ax1.title.set_text('Original image')
ax2.title.set_text('Zooming by nearest neighbour')
plt.show()

def bilinear_interpolation_ZOOM(image,scale):
    rows = int(image.shape[0]*scale)
    columns = int(image.shape[1]*scale)
    new_dimension = (columns, rows)
    resized_img = cv.resize(image, new_dimension, interpolation=cv.INTER_LINEAR)
    return resized_img

bi_zoom_img = bilinear_interpolation_ZOOM(img,4)

fig = plt.figure(figsize=(16,12))

ax1 = fig.add_subplot(131)
ax2 = fig.add_subplot(132)
ax3 = fig.add_subplot(133)

ax1.imshow(img)
ax2.imshow(nn_zoom_img)
ax3.imshow(bi_zoom_img)

ax1.title.set_text('Original image')
ax2.title.set_text('Zooming by nearest neighbour')
ax3.title.set_text('Zooming by bilinear interpolation')
plt.show()

test_img= cv.cvtColor(cv.imread(r'zooming/im09.png'),cv.COLOR_BGR2RGB)

ssd1 = np.sum((test_img[:,:,0:3]-nn_zoom_img[:,:,0:3])**2)
ssd2 = np.sum((test_img[:,:,0:3]-bi_zoom_img[:,:,0:3])**2)

print("SSD for Zooming using nearest neighbours = " ,ssd1)
print("SSD for Zooming using bilinear interpolation = " ,ssd2)
